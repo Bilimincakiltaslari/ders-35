{
 "cells": [
  {
   "cell_type": "code",
   "execution_count": null,
   "metadata": {},
   "outputs": [],
   "source": [
    "print(90*\"*\")\n",
    "print(\"\"\"******                            Oyunumuza  hoşgeldiniz                            ****** \n",
    "****** Bu oyunda yazdığınız bir harfin büyük mü küçük mü olduğunu size söyleyeceğiz ******\n",
    "******                 oyundan çıkmak için sıfır rakamını giriniz                   ******\"\"\")\n",
    "print(90*\"*\")    # Print komutunu döngü dışına aldım bir kez yazssın diye\n",
    "durum=True       # direk True yerine durum diye bir kelimeye atadım.\n",
    "while durum:     # kullanıcı 0 tuşuna basarsa durum False olup döngü bitsin diye yaptım\n",
    "    i=input('lütfen harfi giriniz ') # aşağıda i.isupper()==True: da parantez yoktu.\n",
    "    if i==\"0\":\n",
    "        print(\"Oyunu sonlandırdınız \")\n",
    "        durum=False\n",
    "    if len(i)==1:\n",
    "        if isinstance(i, str)==True:     # Kullanıcının girdiği i=harf string ise True değilse False \n",
    "            if i.isupper()==True:        # i büyük harf ise True değeri veri koşul doğrudur \n",
    "                print('harfiniz BÜYÜK bir harf') # Harfiniz büyük harf der\n",
    "            elif i.islower()==True:        # i küçük harf ise True değeri veri koşul doğrudur\n",
    "                print('HARFİNİZ küçük BİR HARF') # Harfiniz küçük harf der\n",
    "            else:                            # Yukarıdaki koşullardan hiç biri değilse harf değildir.\n",
    "                print('hey dalga geçmeyin! harf yazın') # bu kısmıda içeri aldım çalışsın diye\n",
    "    else:\n",
    "        print('hey bu çok uzun')\n"
   ]
  }
 ],
 "metadata": {
  "kernelspec": {
   "display_name": "Python 3",
   "language": "python",
   "name": "python3"
  },
  "language_info": {
   "codemirror_mode": {
    "name": "ipython",
    "version": 3
   },
   "file_extension": ".py",
   "mimetype": "text/x-python",
   "name": "python",
   "nbconvert_exporter": "python",
   "pygments_lexer": "ipython3",
   "version": "3.7.3"
  }
 },
 "nbformat": 4,
 "nbformat_minor": 2
}
